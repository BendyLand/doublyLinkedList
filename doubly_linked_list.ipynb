{
 "cells": [
  {
   "cell_type": "markdown",
   "metadata": {},
   "source": [
    "# Doubly Linked List Method References"
   ]
  },
  {
   "cell_type": "markdown",
   "metadata": {},
   "source": [
    "## Add to Head"
   ]
  },
  {
   "cell_type": "code",
   "execution_count": null,
   "metadata": {},
   "outputs": [],
   "source": [
    "def add_to_head(new_value)\n",
    "    new_head = Node.new(new_value)\n",
    "    current_head = @head_node\n",
    "\n",
    "    if !current_head.nil?\n",
    "        current_head.prev_node = new_head\n",
    "        new_head.next_node = current_head\n",
    "    end\n",
    "\n",
    "    @head_node = new_head\n",
    "\n",
    "    if @tail_node.nil?\n",
    "        @tail_node = new_head\n",
    "    end\n",
    "end"
   ]
  },
  {
   "cell_type": "markdown",
   "metadata": {},
   "source": [
    "#### Steps:\n",
    " - Create a variable for the new head, made from a new Node with the parameter passed in as the value. \n",
    " - Create a variable to store the current head and assign it to the instance's head node. \n",
    " - Check if the current head exists: \n",
    "     - If not, set the current head's previous node to the new head variable, and set the new head's next node to the current head variable.\n",
    " - Set the instance's head node to the new head variable. \n",
    " - Check if the instance's tail node exists:\n",
    "     - If so, set the instance's tail node to the new head variable. "
   ]
  },
  {
   "cell_type": "markdown",
   "metadata": {},
   "source": [
    "## Add to Tail"
   ]
  },
  {
   "cell_type": "code",
   "execution_count": null,
   "metadata": {},
   "outputs": [],
   "source": [
    "def add_to_tail(new_value)\n",
    "    new_tail = Node.new(new_value)\n",
    "    current_tail = @tail_node\n",
    "\n",
    "    if !current_tail.nil?\n",
    "        current_tail.next_node = new_tail\n",
    "        new_tail.prev_node = current_tail\n",
    "    end\n",
    "\n",
    "    @tail_node = new_tail\n",
    "\n",
    "    if @head_node.nil?\n",
    "        @head_node = new_tail\n",
    "    end\n",
    "end"
   ]
  },
  {
   "cell_type": "markdown",
   "metadata": {},
   "source": [
    "#### Steps:\n",
    " - Create a variable for the new tail, made from a new Node with the parameter passed in as the value. \n",
    " - Create a variable to store the current tail and assign it to the instance's tail node. \n",
    " - Check if the current tail exists: \n",
    "     - If not, set the current tail's previous node to the new tail variable, and set the new tail's next node to the current tail variable.\n",
    " - Set the instance's tail node to the new tail variable. \n",
    " - Check if the instance's head node exists:\n",
    "     - If so, set the instance's tail node to the new head variable. "
   ]
  },
  {
   "cell_type": "markdown",
   "metadata": {},
   "source": [
    "## Remove Head"
   ]
  },
  {
   "cell_type": "code",
   "execution_count": null,
   "metadata": {},
   "outputs": [],
   "source": [
    "def remove_head()\n",
    "    removed_head = @head_node\n",
    "\n",
    "    if removed_head.nil?\n",
    "        return nil\n",
    "    end\n",
    "\n",
    "    @head_node = removed_head.next_node\n",
    "\n",
    "    if !@head_node.nil?\n",
    "        @head_node.prev_node = nil\n",
    "    end\n",
    "\n",
    "    if removed_head == @tail_node\n",
    "        self.remove_tail()\n",
    "    end\n",
    "\n",
    "    return removed_head.value \n",
    "end"
   ]
  },
  {
   "cell_type": "markdown",
   "metadata": {},
   "source": [
    "#### Steps:\n",
    " - Create a variable for the removed head and set it to the instance's head node.\n",
    " - Check if the removed head variable is empty, and if so then return null (or None, nil, etc.).\n",
    " - Set the instance's head node to the removed head's next node\n",
    " - Check if the instance's head node exists: \n",
    "     - If not, then set the instance's head node's previous node to null (or None, nil, etc.).\n",
    " - Check if the removed head variable is equal to the instance's tail node:\n",
    "     - If so, call the remove tail method. \n",
    " - Return the removed head's value. \n",
    "\n"
   ]
  }
 ],
 "metadata": {
  "kernelspec": {
   "display_name": "Ruby 2.6.10",
   "language": "ruby",
   "name": "ruby"
  },
  "language_info": {
   "name": "ruby"
  },
  "orig_nbformat": 4
 },
 "nbformat": 4,
 "nbformat_minor": 2
}
