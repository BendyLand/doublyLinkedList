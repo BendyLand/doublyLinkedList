{
 "cells": [
  {
   "cell_type": "markdown",
   "metadata": {},
   "source": [
    "# Doubly Linked List Method References"
   ]
  },
  {
   "cell_type": "markdown",
   "metadata": {},
   "source": [
    "## Add to Head"
   ]
  },
  {
   "cell_type": "code",
   "execution_count": null,
   "metadata": {},
   "outputs": [],
   "source": [
    "def add_to_head(new_value)\n",
    "    new_head = Node.new(new_value)\n",
    "    current_head = @head_node\n",
    "\n",
    "    if !current_head.nil?\n",
    "        current_head.prev_node = new_head\n",
    "        new_head.next_node = current_head\n",
    "    end\n",
    "\n",
    "    @head_node = new_head\n",
    "\n",
    "    if @tail_node.nil?\n",
    "        @tail_node = new_head\n",
    "    end\n",
    "end"
   ]
  },
  {
   "cell_type": "markdown",
   "metadata": {},
   "source": [
    "#### Steps:\n",
    " - Create a variable for the new head, made from a new Node with the parameter passed in as the value. \n",
    " - Create a variable to store the current head and assign it to the instance's head node. \n",
    " - Check if the current head exists: \n",
    "     - If not, set the current head's previous node to the new head variable, and set the new head's next node to the current head variable.\n",
    " - Set the instance's head node to the new head variable. \n",
    " - Check if the instance's tail node exists:\n",
    "     - If so, set the instance's tail node to the new head variable. "
   ]
  },
  {
   "cell_type": "markdown",
   "metadata": {},
   "source": [
    "## Add to Tail"
   ]
  },
  {
   "cell_type": "code",
   "execution_count": null,
   "metadata": {},
   "outputs": [],
   "source": [
    "def add_to_tail(new_value)\n",
    "    new_tail = Node.new(new_value)\n",
    "    current_tail = @tail_node\n",
    "\n",
    "    if !current_tail.nil?\n",
    "        current_tail.next_node = new_tail\n",
    "        new_tail.prev_node = current_tail\n",
    "    end\n",
    "\n",
    "    @tail_node = new_tail\n",
    "\n",
    "    if @head_node.nil?\n",
    "        @head_node = new_tail\n",
    "    end\n",
    "end"
   ]
  },
  {
   "cell_type": "markdown",
   "metadata": {},
   "source": [
    "#### Steps:\n",
    " - Create a variable for the new tail, made from a new Node with the parameter passed in as the value. \n",
    " - Create a variable to store the current tail and assign it to the instance's tail node. \n",
    " - Check if the current tail exists: \n",
    "     - If not, set the current tail's previous node to the new tail variable, and set the new tail's next node to the current tail variable.\n",
    " - Set the instance's tail node to the new tail variable. \n",
    " - Check if the instance's head node exists:\n",
    "     - If so, set the instance's tail node to the new head variable. "
   ]
  },
  {
   "cell_type": "markdown",
   "metadata": {},
   "source": [
    "## Remove Head"
   ]
  },
  {
   "cell_type": "code",
   "execution_count": null,
   "metadata": {},
   "outputs": [],
   "source": [
    "def remove_head()\n",
    "    removed_head = @head_node\n",
    "\n",
    "    if removed_head.nil?\n",
    "        return nil\n",
    "    end\n",
    "\n",
    "    @head_node = removed_head.next_node\n",
    "\n",
    "    if !@head_node.nil?\n",
    "        @head_node.prev_node = nil\n",
    "    end\n",
    "\n",
    "    if removed_head == @tail_node\n",
    "        self.remove_tail()\n",
    "    end\n",
    "\n",
    "    return removed_head.value \n",
    "end"
   ]
  },
  {
   "cell_type": "markdown",
   "metadata": {},
   "source": [
    "#### Steps:\n",
    " - Create a variable for the removed head and set it to the instance's head node.\n",
    " - Check if the removed head variable is empty, and if so then return null (or None, nil, etc.).\n",
    " - Set the instance's head node to the removed head's next node\n",
    " - Check if the instance's head node exists: \n",
    "     - If not, then set the instance's head node's previous node to null (or None, nil, etc.).\n",
    " - Check if the removed head variable is equal to the instance's tail node:\n",
    "     - If so, call the remove tail method. \n",
    " - Return the removed head's value. \n",
    "\n"
   ]
  },
  {
   "cell_type": "code",
   "execution_count": null,
   "metadata": {},
   "outputs": [],
   "source": [
    "def remove_tail()\n",
    "    removed_tail = @tail_node\n",
    "\n",
    "    if removed_tail.nil?\n",
    "        return nil\n",
    "    end\n",
    "\n",
    "    @tail_node = removed_tail.prev_node\n",
    "\n",
    "    if !@tail_node.nil?\n",
    "        @tail_node.next_node = nil\n",
    "    end\n",
    "\n",
    "    if removed_tail == @head_node\n",
    "        self.remove_head()\n",
    "    end\n",
    "\n",
    "    return removed_tail.value\n",
    "end"
   ]
  },
  {
   "cell_type": "markdown",
   "metadata": {},
   "source": [
    "#### Steps:\n",
    " - Create a variable for the removed tail and set it to the instance's tail node.\n",
    " - Check if the removed tail variable is empty, and if so then return null (or None, nil, etc.).\n",
    " - Set the instance's tail node to the removed tail's next node\n",
    " - Check if the instance's tail node exists: \n",
    "     - If not, then set the instance's tail node's previous node to null (or None, nil, etc.).\n",
    " - Check if the removed tail variable is equal to the instance's tail node:\n",
    "     - If so, call the remove tail method. \n",
    " - Return the removed tail's value. \n",
    "\n"
   ]
  },
  {
   "cell_type": "code",
   "execution_count": null,
   "metadata": {},
   "outputs": [],
   "source": [
    "def remove_by_value(value_to_remove)\n",
    "    node_to_remove = nil\n",
    "    current_node = @head_node\n",
    "\n",
    "    while !current_node.nil?\n",
    "        if current_node.value == value_to_remove\n",
    "            node_to_remove = current_node\n",
    "            break\n",
    "        end\n",
    "        current_node = current_node.next_node\n",
    "    end\n",
    "\n",
    "    if node_to_remove.nil?\n",
    "        return nil\n",
    "    end\n",
    "\n",
    "    if node_to_remove == @head_node\n",
    "        self.remove_head()\n",
    "    elsif node_to_remove == @tail_node\n",
    "        self.remove_tail()\n",
    "    else\n",
    "        next_node = node_to_remove.next_node\n",
    "        prev_node = node_to_remove.prev_node\n",
    "        next_node.prev_node = prev_node\n",
    "        prev_node.next_node = next_node\n",
    "    end\n",
    "\n",
    "    return node_to_remove\n",
    "end"
   ]
  },
  {
   "cell_type": "markdown",
   "metadata": {},
   "source": [
    "## Steps:\n",
    " - Create a variable to store the node to remove and set it to null.\n",
    " - Create a variable to keep track of the current node and set it to the instance's head node. \n",
    " - Create a loop that runs while the current node is not empty:\n",
    "     - Check if the current node's value is equal to the value to remove:\n",
    "         - If so, set the node to remove variable to the current node and break the loop\n",
    "     - Set the current node variable to the current node's next node.\n",
    " - Check if the node to remove variable is empty: \n",
    "     - If so, return null (or None, nil, etc.).\n",
    " - Check if the node to remove is equal to the instance's head or tail nodes:\n",
    "     - If so, call the appropriate remove method.\n",
    "     - Otherwise, create variables for the next and previous nodes by getting the next and previous nodes from the node to remove variable, then set the next node's previous node to the previous variable, and set the previous node's next node to the next variable:\n",
    "        next = removed.next\n",
    "        prev = removed.prev\n",
    "        next.prev = prev\n",
    "        prev.next = next\n",
    " - Return the removed node."
   ]
  },
  {
   "cell_type": "code",
   "execution_count": null,
   "metadata": {},
   "outputs": [],
   "source": [
    "def stringify_list()\n",
    "    string = \"\"\n",
    "    current_node = @head_node\n",
    "    while current_node\n",
    "        if not current_node.value.nil?\n",
    "            string += current_node.value.to_s + \"; \"\n",
    "        end\n",
    "        current_node = current_node.next_node\n",
    "    end\n",
    "    return string\n",
    "end"
   ]
  },
  {
   "cell_type": "markdown",
   "metadata": {},
   "source": [
    "## Steps:\n",
    " - Create a variable to store the string.\n",
    " - Create a variable for the current node and set it to the instance's head node. \n",
    " - Create a loop that runs while the current node exists:\n",
    "     - Check if the current node's value is empty:\n",
    "         - If not, then add the current node's value, plus any delimiters to the string after being converted to a string. \n",
    "     Set the current node variable to the current node's next node. \n",
    " - Return the string."
   ]
  }
 ],
 "metadata": {
  "kernelspec": {
   "display_name": "Ruby 2.6.10",
   "language": "ruby",
   "name": "ruby"
  },
  "language_info": {
   "name": "ruby"
  },
  "orig_nbformat": 4
 },
 "nbformat": 4,
 "nbformat_minor": 2
}
